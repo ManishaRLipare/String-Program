{
 "cells": [
  {
   "cell_type": "markdown",
   "id": "73f6a42b",
   "metadata": {},
   "source": [
    "### WAP to replace all occurences of 'a' with '$' in a string."
   ]
  },
  {
   "cell_type": "code",
   "execution_count": 1,
   "id": "4292d531",
   "metadata": {},
   "outputs": [
    {
     "name": "stdout",
     "output_type": "stream",
     "text": [
      "Enter a string:Manisha \n",
      "M$nish$ \n"
     ]
    }
   ],
   "source": [
    "s = input('Enter a string:')\n",
    "s = s.replace('a','$')\n",
    "s = s.replace('A','$')\n",
    "print(s)"
   ]
  },
  {
   "cell_type": "markdown",
   "id": "d991dc9b",
   "metadata": {},
   "source": [
    "### WAP to form a new string where first character and last character have been exchanged"
   ]
  },
  {
   "cell_type": "code",
   "execution_count": 2,
   "id": "c7d1f6ba",
   "metadata": {},
   "outputs": [
    {
     "name": "stdout",
     "output_type": "stream",
     "text": [
      "Enter a string:Manisha\n",
      "aanishM\n"
     ]
    }
   ],
   "source": [
    "s = input('Enter a string:')\n",
    "m = ''\n",
    "m = s[-1]+s[1:-1]+s[0]\n",
    "print(m)"
   ]
  },
  {
   "cell_type": "markdown",
   "id": "fa84cd26",
   "metadata": {},
   "source": [
    "### WAP to count the number of vowels in astring"
   ]
  },
  {
   "cell_type": "code",
   "execution_count": 1,
   "id": "30ebed14",
   "metadata": {},
   "outputs": [
    {
     "name": "stdout",
     "output_type": "stream",
     "text": [
      "Enter a string:manisha\n",
      " The number of vowels in a given string are : 3\n"
     ]
    }
   ],
   "source": [
    "s = input('Enter a string:')\n",
    "count = 0\n",
    "for i in s:\n",
    "    if i == 'a' or i == 'i' or i == 'e' or i == 'o' or i == 'u' or i == 'A' or i == 'I' or i == 'E' or i == 'O' or i == 'U' :\n",
    "        count += 1\n",
    "print(\" The number of vowels in a given string are :\",count)\n"
   ]
  },
  {
   "cell_type": "markdown",
   "id": "aab7f7ec",
   "metadata": {},
   "source": [
    "### WAP to take a string and replace blank space with a hyphen"
   ]
  },
  {
   "cell_type": "code",
   "execution_count": 4,
   "id": "d448e281",
   "metadata": {},
   "outputs": [
    {
     "name": "stdout",
     "output_type": "stream",
     "text": [
      "Enter a string:manisha rakesh lipare\n",
      "manisha-rakesh-lipare\n"
     ]
    }
   ],
   "source": [
    "s = input('Enter a string:')\n",
    "s = s.replace(' ','-')\n",
    "print(s)"
   ]
  },
  {
   "cell_type": "markdown",
   "id": "f62beae4",
   "metadata": {},
   "source": [
    "### WAP to calculate the length of a String without using Library function"
   ]
  },
  {
   "cell_type": "code",
   "execution_count": 5,
   "id": "e011c2da",
   "metadata": {},
   "outputs": [
    {
     "name": "stdout",
     "output_type": "stream",
     "text": [
      "Enter a string:manisha\n",
      "The length of the given string is : 7\n"
     ]
    }
   ],
   "source": [
    "s = input('Enter a string:')\n",
    "len = 0\n",
    "for i in s:\n",
    "    len +=1\n",
    "print('The length of the given string is :',len)    "
   ]
  },
  {
   "cell_type": "markdown",
   "id": "b91f499b",
   "metadata": {},
   "source": [
    "### WAP to remove the characters of odd index values in a string."
   ]
  },
  {
   "cell_type": "code",
   "execution_count": 12,
   "id": "19281793",
   "metadata": {},
   "outputs": [
    {
     "name": "stdout",
     "output_type": "stream",
     "text": [
      "Enter a string;:manisha\n",
      "Final string: aih\n"
     ]
    }
   ],
   "source": [
    "s = input('Enter a string;:')\n",
    "m = ''\n",
    "len = 0\n",
    "for i in s:\n",
    "    len +=1\n",
    "for i in range(len):\n",
    "    if i % 2 == 1:\n",
    "        m = m + s[i]\n",
    "print('Final string:',m)        \n",
    "       "
   ]
  },
  {
   "cell_type": "markdown",
   "id": "3bf2516a",
   "metadata": {},
   "source": [
    "### WAP to calculate a number of words and number of characters in a string."
   ]
  },
  {
   "cell_type": "code",
   "execution_count": 15,
   "id": "eb87069c",
   "metadata": {},
   "outputs": [
    {
     "name": "stdout",
     "output_type": "stream",
     "text": [
      "Enter a string:manisha rakesh lipare\n",
      "No. of character in a given string is: 21 |No. of words in a given string is: 3\n"
     ]
    }
   ],
   "source": [
    "s = input('Enter a string:')\n",
    "count = 0\n",
    "word = 1\n",
    "for i in s:\n",
    "    count+=1\n",
    "    if i == ' ':\n",
    "        word+=1\n",
    "print('No. of character in a given string is:',count,'|No. of words in a given string is:',word)        "
   ]
  },
  {
   "cell_type": "markdown",
   "id": "8876c02d",
   "metadata": {},
   "source": [
    "### WAP to take in two strings and display the larger string without using built-in-functions."
   ]
  },
  {
   "cell_type": "code",
   "execution_count": 9,
   "id": "b8b2ad9e",
   "metadata": {},
   "outputs": [
    {
     "name": "stdout",
     "output_type": "stream",
     "text": [
      "Enter a string:manisha\n",
      "Enter a string:sharayu\n",
      "The both strings are equal: manisha and sharayu\n"
     ]
    }
   ],
   "source": [
    "s1 = input('Enter a string:')\n",
    "s2 =  input('Enter a string:')\n",
    "l1 = 0\n",
    "l2 = 0\n",
    "for i in s1:\n",
    "    l1 = l1 + 1\n",
    "for j in s2:\n",
    "    l2 = l2 + 1\n",
    "if (l1 > l2):\n",
    "    print('The first given string:',s1,'is greater than second given string',s2)\n",
    "elif (l1 == l2):\n",
    "    print('The both strings are equal:',s1,'and',s2)\n",
    "else:\n",
    "    print('The second given string:',s2,'is greater than first given string',s1)\n",
    "    "
   ]
  },
  {
   "cell_type": "markdown",
   "id": "cb5b7b37",
   "metadata": {},
   "source": [
    "### WAP to count lowercase character of string."
   ]
  },
  {
   "cell_type": "code",
   "execution_count": 15,
   "id": "01964bf2",
   "metadata": {},
   "outputs": [
    {
     "name": "stdout",
     "output_type": "stream",
     "text": [
      "Enter a string:Manisha\n",
      "The number of lower case characters in the given string is 6\n"
     ]
    }
   ],
   "source": [
    "s = input('Enter a string:')\n",
    "count = 0\n",
    "for i in s:\n",
    "    if i.islower():\n",
    "        count = count + 1\n",
    "        \n",
    "print(\"The number of lower case characters in the given string is\",count)\n"
   ]
  },
  {
   "cell_type": "markdown",
   "id": "7453c388",
   "metadata": {},
   "source": [
    "### WAP to check if a string is a palindrome or not."
   ]
  },
  {
   "cell_type": "code",
   "execution_count": 20,
   "id": "f5ff91e3",
   "metadata": {},
   "outputs": [
    {
     "name": "stdout",
     "output_type": "stream",
     "text": [
      "Enter a string: madam\n",
      "The given string is Palindrome: madam\n"
     ]
    }
   ],
   "source": [
    "s = input('Enter a string: ')\n",
    "if (s == s[::-1]):\n",
    "    print('The given string is Palindrome:',s)\n",
    "else:\n",
    "    print('The given string is not Palindrome:',s)\n",
    "    "
   ]
  },
  {
   "cell_type": "markdown",
   "id": "3b044fe1",
   "metadata": {},
   "source": [
    "### WAP to reverse a string with out using built in function."
   ]
  },
  {
   "cell_type": "code",
   "execution_count": 21,
   "id": "281bf829",
   "metadata": {},
   "outputs": [
    {
     "name": "stdout",
     "output_type": "stream",
     "text": [
      "Enter a string: manisha\n",
      "ahsinam\n"
     ]
    }
   ],
   "source": [
    "s = input('Enter a string: ')\n",
    "m = ''\n",
    "l = 0\n",
    "for i in s:\n",
    "   m = i + m\n",
    "print(m) "
   ]
  },
  {
   "cell_type": "markdown",
   "id": "efe45a6d",
   "metadata": {
    "collapsed": true
   },
   "source": [
    "### WAP to find number of characters in a string."
   ]
  },
  {
   "cell_type": "code",
   "execution_count": 1,
   "id": "04cd6683",
   "metadata": {},
   "outputs": [
    {
     "name": "stdout",
     "output_type": "stream",
     "text": [
      "Enter a string: manisha rakesh lipare\n",
      "{'manisha': 7, 'rakesh': 6, 'lipare': 6}\n"
     ]
    }
   ],
   "source": [
    "s = input('Enter a string: ')\n",
    "l = []\n",
    "l = s.split()\n",
    "print({i:len(i) for i in l})"
   ]
  },
  {
   "cell_type": "code",
   "execution_count": 4,
   "id": "6536cf11",
   "metadata": {},
   "outputs": [
    {
     "name": "stdout",
     "output_type": "stream",
     "text": [
      "(0, 'M')\n",
      "M 0\n",
      "(1, 'a')\n",
      "a 1\n",
      "(2, 'n')\n",
      "n 2\n",
      "(3, 'u')\n",
      "u 3\n"
     ]
    }
   ],
   "source": [
    "n='Manu'\n",
    "for i in enumerate(n):\n",
    "    print(i)\n",
    "    print(i[1],i[0])"
   ]
  },
  {
   "cell_type": "markdown",
   "id": "2fac729d",
   "metadata": {},
   "source": [
    "### WAPP to confirm that 2 string have the same identity"
   ]
  },
  {
   "cell_type": "code",
   "execution_count": 5,
   "id": "a39526c2",
   "metadata": {},
   "outputs": [
    {
     "name": "stdout",
     "output_type": "stream",
     "text": [
      "Enter first string:manu\n",
      "Enter a second string:sharu\n",
      "Both string dose not have same identity\n"
     ]
    }
   ],
   "source": [
    "s1 = input('Enter first string:')\n",
    "s2 = input('Enter a second string:')\n",
    "if s1 == s2:\n",
    "    print('Both string have same identity')\n",
    "else:\n",
    "    print('Both string dose not have same identity')"
   ]
  },
  {
   "cell_type": "markdown",
   "id": "9da2e038",
   "metadata": {},
   "source": [
    "###  WAPP to type each word in a string with capital letter"
   ]
  },
  {
   "cell_type": "code",
   "execution_count": 7,
   "id": "7cf90546",
   "metadata": {},
   "outputs": [
    {
     "name": "stdout",
     "output_type": "stream",
     "text": [
      "Enter a string:manisha rakesh lipare\n",
      "Manisha Rakesh Lipare\n"
     ]
    }
   ],
   "source": [
    "s = input('Enter a string:')\n",
    "print(s.title())"
   ]
  },
  {
   "cell_type": "markdown",
   "id": "e7cbd52c",
   "metadata": {},
   "source": [
    "###  WAPP to check if a string contains a specific substring"
   ]
  },
  {
   "cell_type": "code",
   "execution_count": 11,
   "id": "2ee4e42f",
   "metadata": {},
   "outputs": [
    {
     "name": "stdout",
     "output_type": "stream",
     "text": [
      "Enter a string:manisha lipare\n",
      "Enter a sub string:manisha\n",
      "manisha lipare contains manisha\n"
     ]
    }
   ],
   "source": [
    "s1 = input('Enter a string:')\n",
    "s2 = input('Enter a sub string:')\n",
    "index = s1.find(s2)\n",
    "if index != -1:\n",
    "    print(s1,'contains',s2)\n",
    "else:\n",
    "    print(s1,'not contains',s2)\n",
    "    "
   ]
  },
  {
   "cell_type": "markdown",
   "id": "bcb76732",
   "metadata": {},
   "source": [
    "### WAPP to find first occurence of a substring in a string"
   ]
  },
  {
   "cell_type": "code",
   "execution_count": 16,
   "id": "7e331321",
   "metadata": {},
   "outputs": [
    {
     "name": "stdout",
     "output_type": "stream",
     "text": [
      "Enter a string:anvita rakesh lipare\n",
      "Enter a sub string:anvi\n",
      "The first occurence of substring in a string is a\n"
     ]
    }
   ],
   "source": [
    "s1 = input('Enter a string:')\n",
    "s2 = input('Enter a sub string:')\n",
    "i = s1.find(s2)\n",
    "if i != -1:\n",
    "    print('The first occurence of substring in a string is',s2[0])\n",
    "else:\n",
    "    print(s1,'not contains',s2)"
   ]
  },
  {
   "cell_type": "markdown",
   "id": "fdc45c2b",
   "metadata": {},
   "source": [
    "### Capitalize the first character of a string"
   ]
  },
  {
   "cell_type": "code",
   "execution_count": 17,
   "id": "2df60133",
   "metadata": {},
   "outputs": [
    {
     "name": "stdout",
     "output_type": "stream",
     "text": [
      "Enter a string:manisha lipare\n",
      "Manisha lipare\n"
     ]
    }
   ],
   "source": [
    "s = input('Enter a string:')\n",
    "print(s.capitalize())"
   ]
  },
  {
   "cell_type": "markdown",
   "id": "19c5abc9",
   "metadata": {},
   "source": [
    "###  WAPP to check if a string contains only numbers"
   ]
  },
  {
   "cell_type": "code",
   "execution_count": 19,
   "id": "02d6aacd",
   "metadata": {},
   "outputs": [
    {
     "name": "stdout",
     "output_type": "stream",
     "text": [
      "Enter a string:123456\n",
      "The string contains only numbers\n"
     ]
    }
   ],
   "source": [
    "s = input('Enter a string:')\n",
    "if s.isnumeric():\n",
    "    print('The string contains only numbers')\n",
    "else:\n",
    "    print('The string contains all type and string is',s)"
   ]
  },
  {
   "cell_type": "markdown",
   "id": "caf39cc4",
   "metadata": {},
   "source": [
    "### check if a string is composed of all lower case characters"
   ]
  },
  {
   "cell_type": "code",
   "execution_count": 22,
   "id": "c4ddbd78",
   "metadata": {},
   "outputs": [
    {
     "name": "stdout",
     "output_type": "stream",
     "text": [
      "Enter a string:sharu\n",
      "sharu is composed with all lower case characters\n"
     ]
    }
   ],
   "source": [
    "s = input('Enter a string:')\n",
    "if s.islower():\n",
    "    print(s,'is composed with all lower case characters')\n",
    "else:\n",
    "    print(s,'is not composed with all lower case characters')\n"
   ]
  },
  {
   "cell_type": "markdown",
   "id": "bdbdd6d8",
   "metadata": {},
   "source": [
    "### check if the first character in a string is lowercase"
   ]
  },
  {
   "cell_type": "code",
   "execution_count": 3,
   "id": "21ec3132",
   "metadata": {},
   "outputs": [
    {
     "name": "stdout",
     "output_type": "stream",
     "text": [
      "Enter a string:manu\n",
      "The first character in a string is lowercase manu m\n"
     ]
    }
   ],
   "source": [
    "s = input('Enter a string:')\n",
    "if s[0].islower():\n",
    "    print('The first character in a string is lowercase',s,s[0])\n",
    "else:\n",
    "    print(s)"
   ]
  },
  {
   "cell_type": "markdown",
   "id": "cbaba983",
   "metadata": {},
   "source": [
    "###  Reverse the string 'hello world'"
   ]
  },
  {
   "cell_type": "code",
   "execution_count": 4,
   "id": "c7c6916e",
   "metadata": {},
   "outputs": [
    {
     "name": "stdout",
     "output_type": "stream",
     "text": [
      "dlrow olleh\n",
      "Enter a string:manu\n",
      "unam\n"
     ]
    }
   ],
   "source": [
    "s = 'hello world'\n",
    "print(s[::-1])\n",
    "s1 = input('Enter a string:')\n",
    "m =''\n",
    "for i in s1:\n",
    "    m = i + m\n",
    "print(m)\n",
    "    "
   ]
  },
  {
   "cell_type": "markdown",
   "id": "6391b527",
   "metadata": {},
   "source": [
    "### Join a list of strings into a single string, delimited by hyphens ( for [a-b-c])"
   ]
  },
  {
   "cell_type": "code",
   "execution_count": 5,
   "id": "79a4cc97",
   "metadata": {},
   "outputs": [
    {
     "name": "stdout",
     "output_type": "stream",
     "text": [
      "Enter a stringmanisha rakesh lipare\n",
      "['manisha', 'rakesh', 'lipare']\n",
      "manisha-rakesh-lipare\n"
     ]
    }
   ],
   "source": [
    "s = input('Enter a string')\n",
    "l = []\n",
    "l = s.split()\n",
    "print(l)\n",
    "m = '-'.join(l)\n",
    "print(m)"
   ]
  },
  {
   "cell_type": "code",
   "execution_count": 6,
   "id": "d879c66d",
   "metadata": {},
   "outputs": [
    {
     "name": "stdout",
     "output_type": "stream",
     "text": [
      "Enter a stringmanisha\n",
      "['m', 'a', 'n', 'i', 's', 'h', 'a']\n",
      "m-a-n-i-s-h-a\n"
     ]
    }
   ],
   "source": [
    "s = input('Enter a string')\n",
    "l = []\n",
    "l.extend(s)\n",
    "print(l)\n",
    "m = '-'.join(l)\n",
    "print(m)"
   ]
  },
  {
   "cell_type": "markdown",
   "id": "9ce51c31",
   "metadata": {},
   "source": [
    "###  to convert uppercase and lowercase an entire string"
   ]
  },
  {
   "cell_type": "code",
   "execution_count": 8,
   "id": "ce59108b",
   "metadata": {},
   "outputs": [
    {
     "name": "stdout",
     "output_type": "stream",
     "text": [
      "Enter a string:MaNiSHa\n",
      "The string in a uppercase MANISHA\n",
      "The string in a lowercase manisha\n"
     ]
    }
   ],
   "source": [
    "s = input('Enter a string:')\n",
    "print('The string in a uppercase',s.upper())\n",
    "print('The string in a lowercase',s.lower())"
   ]
  },
  {
   "cell_type": "markdown",
   "id": "e32d532d",
   "metadata": {},
   "source": [
    "### Uppercase first and last character of a string(ex. FisH)"
   ]
  },
  {
   "cell_type": "code",
   "execution_count": 12,
   "id": "6521e9cd",
   "metadata": {},
   "outputs": [
    {
     "name": "stdout",
     "output_type": "stream",
     "text": [
      "Enter a string:manisha lipare\n",
      "Manisha liparE\n"
     ]
    }
   ],
   "source": [
    "s = input('Enter a string:')\n",
    "print(s[0].upper()+s[1:-1]+s[-1].upper())\n"
   ]
  },
  {
   "cell_type": "markdown",
   "id": "5e761abb",
   "metadata": {},
   "source": [
    "###  Check if a string is all uppercase"
   ]
  },
  {
   "cell_type": "code",
   "execution_count": 16,
   "id": "2abe2599",
   "metadata": {},
   "outputs": [
    {
     "name": "stdout",
     "output_type": "stream",
     "text": [
      "Enter a string:MaNiSha\n",
      "['M', 'a', 'N', 'i', 'S', 'h', 'a']\n",
      "The uppercase letter in a string are M\n",
      "The lowercase letter in a string are a\n",
      "The uppercase letter in a string are N\n",
      "The lowercase letter in a string are i\n",
      "The uppercase letter in a string are S\n",
      "The lowercase letter in a string are h\n",
      "The lowercase letter in a string are a\n"
     ]
    }
   ],
   "source": [
    "s = input('Enter a string:')\n",
    "l = []\n",
    "l.extend(s)\n",
    "print(l)\n",
    "for i in l:\n",
    "    if i.upper() in l:\n",
    "        print('The uppercase letter in a string are',i)\n",
    "    else:\n",
    "        print('The lowercase letter in a string are',i)"
   ]
  },
  {
   "cell_type": "markdown",
   "id": "1bc275a2",
   "metadata": {},
   "source": [
    "### Give an example of string slicing a string takes up to 3 arguments, string[start_index:end_index:step]"
   ]
  },
  {
   "cell_type": "code",
   "execution_count": 19,
   "id": "43dbeb1f",
   "metadata": {},
   "outputs": [
    {
     "name": "stdout",
     "output_type": "stream",
     "text": [
      "Enter a string:manisha lipare\n",
      "erapil ahsinam\n",
      "aih iae\n",
      "nisha lipar\n"
     ]
    }
   ],
   "source": [
    "s = input('Enter a string:')\n",
    "print(s[::-1])\n",
    "print(s[1::2])\n",
    "print(s[2:-1:])"
   ]
  },
  {
   "cell_type": "markdown",
   "id": "e3764ee5",
   "metadata": {},
   "source": [
    "### Convert an integer to a string"
   ]
  },
  {
   "cell_type": "code",
   "execution_count": 4,
   "id": "3ba56e78",
   "metadata": {},
   "outputs": [
    {
     "name": "stdout",
     "output_type": "stream",
     "text": [
      "Enter a number:123\n",
      "123\n",
      "<class 'str'>\n"
     ]
    }
   ],
   "source": [
    "n = int(input('Enter a number:'))\n",
    "m = str(n)\n",
    "print(m)\n",
    "print(type(m))"
   ]
  },
  {
   "cell_type": "markdown",
   "id": "fb684145",
   "metadata": {},
   "source": [
    "### Check if a string contains only characters of the alphabet"
   ]
  },
  {
   "cell_type": "code",
   "execution_count": 8,
   "id": "c953068d",
   "metadata": {},
   "outputs": [
    {
     "name": "stdout",
     "output_type": "stream",
     "text": [
      "Enter a string:manisha 1234567 lipare\n",
      "The alphabet in a string are: m-a-n-i-s-h-a-l-i-p-a-r-e\n"
     ]
    }
   ],
   "source": [
    "s = input('Enter a string:')\n",
    "l = []\n",
    "for i in s:\n",
    "    if i.isalpha():\n",
    "        l.append(i)            \n",
    "print('The alphabet in a string are:','-'.join(l))"
   ]
  },
  {
   "cell_type": "markdown",
   "id": "04bc03a9",
   "metadata": {},
   "source": [
    "### Replace all instances of a substring in a string"
   ]
  },
  {
   "cell_type": "code",
   "execution_count": 12,
   "id": "4211a2ae",
   "metadata": {},
   "outputs": [
    {
     "name": "stdout",
     "output_type": "stream",
     "text": [
      "Enter a string:Manisha Lipare\n",
      "Enter a substring:Manisha\n",
      "ahsinaM\n"
     ]
    }
   ],
   "source": [
    "s1 = input('Enter a string:')\n",
    "s2 = input('Enter a substring:')\n",
    "if s2 in s1:\n",
    "    print(s2[::-1])\n",
    "else:\n",
    "    ('Entered second string is not preasent in first string')\n",
    "    "
   ]
  },
  {
   "cell_type": "markdown",
   "id": "81f1fcc4",
   "metadata": {},
   "source": [
    "### Check if all characters in a string are alphanumeric"
   ]
  },
  {
   "cell_type": "code",
   "execution_count": 16,
   "id": "2646f765",
   "metadata": {},
   "outputs": [
    {
     "name": "stdout",
     "output_type": "stream",
     "text": [
      "Enter a string:@$$%^&\n",
      "The given string is not a alpha numeric @$$%^&\n"
     ]
    }
   ],
   "source": [
    "s = input('Enter a string:')\n",
    "if s.isalnum():\n",
    "    print('The given string is alpha numeric',s)\n",
    "else:\n",
    "    print('The given string is not a alpha numeric',s)"
   ]
  },
  {
   "cell_type": "markdown",
   "id": "059aee98",
   "metadata": {},
   "source": [
    "### Remove whitespace from the left,right or both sides of a string"
   ]
  },
  {
   "cell_type": "code",
   "execution_count": 21,
   "id": "9858e06e",
   "metadata": {},
   "outputs": [
    {
     "name": "stdout",
     "output_type": "stream",
     "text": [
      "Enter a string:****************manu+++++++++++++++++\n",
      "****************manu+++++++++++++++++\n",
      "manu+++++++++++++++++\n",
      "****************manu\n",
      "manu\n"
     ]
    }
   ],
   "source": [
    "s = input('Enter a string:')\n",
    "print(s)\n",
    "print(s.lstrip('*'))\n",
    "print(s.rstrip('+'))\n",
    "print(s.strip('*+'))"
   ]
  },
  {
   "cell_type": "code",
   "execution_count": 23,
   "id": "0ca8d99b",
   "metadata": {},
   "outputs": [
    {
     "name": "stdout",
     "output_type": "stream",
     "text": [
      "Enter a string:                 manu             \n",
      "                 manu             \n",
      "manu\n"
     ]
    }
   ],
   "source": [
    "s = input('Enter a string:')\n",
    "print(s)\n",
    "print(s.strip(' '))"
   ]
  },
  {
   "cell_type": "markdown",
   "id": "282087d9",
   "metadata": {},
   "source": [
    "###  Check if a string beings with or ends with a specific character"
   ]
  },
  {
   "cell_type": "code",
   "execution_count": 27,
   "id": "2cf90fd4",
   "metadata": {},
   "outputs": [
    {
     "name": "stdout",
     "output_type": "stream",
     "text": [
      "Enter a string:anvita lipare\n",
      "anvita lipare\n",
      "Enter a string:manisha\n",
      "manisha\n"
     ]
    }
   ],
   "source": [
    "s = input('Enter a string:')\n",
    "if s.startswith('a'):\n",
    "    print(s)\n",
    "m = input('Enter a string:')\n",
    "if m.endswith('a'):  \n",
    "    print(m)"
   ]
  },
  {
   "cell_type": "markdown",
   "id": "4e926377",
   "metadata": {},
   "source": [
    "### What is the effect of multiplying a string by 3"
   ]
  },
  {
   "cell_type": "code",
   "execution_count": 28,
   "id": "7cd40b88",
   "metadata": {},
   "outputs": [
    {
     "name": "stdout",
     "output_type": "stream",
     "text": [
      "Enter a string:manu\n",
      "manumanumanu\n"
     ]
    }
   ],
   "source": [
    "s = input('Enter a string:')\n",
    "print(s*3)"
   ]
  },
  {
   "cell_type": "markdown",
   "id": "5390d28d",
   "metadata": {},
   "source": [
    "###  Concatenate two strings"
   ]
  },
  {
   "cell_type": "code",
   "execution_count": 29,
   "id": "a17e09a3",
   "metadata": {},
   "outputs": [
    {
     "name": "stdout",
     "output_type": "stream",
     "text": [
      "Enter a first string:manisha \n",
      "Enter a second string:dhumal\n",
      "manisha dhumal\n"
     ]
    }
   ],
   "source": [
    "s1 = input('Enter a first string:')\n",
    "s2 = input('Enter a second string:')\n",
    "print(s1+s2)"
   ]
  },
  {
   "cell_type": "markdown",
   "id": "16ed122d",
   "metadata": {},
   "source": [
    "###  Remove vowels from a string"
   ]
  },
  {
   "cell_type": "code",
   "execution_count": 34,
   "id": "97bd15ec",
   "metadata": {},
   "outputs": [
    {
     "name": "stdout",
     "output_type": "stream",
     "text": [
      "Enter a string:hello world\n",
      "hll wrld"
     ]
    }
   ],
   "source": [
    "s = input('Enter a string:')\n",
    "vowels = ['a','i','e','o','u','A','I','E','O','U']\n",
    "for i in s:\n",
    "    if i not in vowels:\n",
    "        print(i,end='')"
   ]
  },
  {
   "cell_type": "code",
   "execution_count": 38,
   "id": "6e8cf4ee",
   "metadata": {},
   "outputs": [
    {
     "name": "stdout",
     "output_type": "stream",
     "text": [
      "39\n",
      "42\n",
      "-1\n"
     ]
    }
   ],
   "source": [
    "story = 'The price is right said Bob. The price is right'\n",
    "print(story.rfind('is'))\n",
    "print(story.rfind('right'))\n",
    "print(story.rfind('manu'))"
   ]
  },
  {
   "cell_type": "code",
   "execution_count": null,
   "id": "5190488f",
   "metadata": {},
   "outputs": [],
   "source": []
  }
 ],
 "metadata": {
  "kernelspec": {
   "display_name": "Python 3 (ipykernel)",
   "language": "python",
   "name": "python3"
  },
  "language_info": {
   "codemirror_mode": {
    "name": "ipython",
    "version": 3
   },
   "file_extension": ".py",
   "mimetype": "text/x-python",
   "name": "python",
   "nbconvert_exporter": "python",
   "pygments_lexer": "ipython3",
   "version": "3.9.12"
  }
 },
 "nbformat": 4,
 "nbformat_minor": 5
}
